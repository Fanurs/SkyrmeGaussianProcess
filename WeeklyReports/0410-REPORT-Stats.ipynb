{
 "cells": [
  {
   "cell_type": "markdown",
   "metadata": {},
   "source": [
    "# <center>Using Statistical Models in nuclear physics</center>\n",
    "\n",
    "<center>by Chi-En Teh</center>"
   ]
  },
  {
   "cell_type": "markdown",
   "metadata": {},
   "source": [
    "In experimental nuclear physics, statistics is basically everywhere when doing data analysis. In this report, I will only be discussing examples that are most closely related to my current work.\n",
    "\n",
    "The first is the use of Bayesian inference. This is a statistical method that is based on Bayes' theorem. It returns the probability for a hypothesis to hold given a series of evidence. Despite the long history of Bayesian analysis, this technique has only been gaining popularity over the past decade in nuclear physics community.\n",
    "\n",
    "In the phenomenological study of nuclear matter, it has been an open question to determine the precise values of $S_0, L, m_s, m_v$. These are the parameters in the nuclear equation of state. However, none of these parameters are accessible directly by experiments. Instead, physicists use the other \"evidence\" that can be collected experimentally, then compare those evidence against simulation results run with different sets of $S_0, L, m_s, m_v$. Finally, Bayesian inference can then be applied to infer the values (and likelihood distributions) of these parameters. The figure below summarizes the work in [1].\n",
    "\n",
    "<img src=\"https://ars.els-cdn.com/content/image/1-s2.0-S0370269319307671-gr002.jpg\" width=\"90%\">\n",
    "\n",
    "In the study of nuclear structure, the mass of nucleus is one of the most fundamental properties as it helps to determine the stability (whether it decays or not) as well as its decay rate. While nuclear physicists have been able to measure more than $1000$ nuclear masses with high precision, there are many nuclei that lie beyond the \"valley of stability\", i.e. those that have very short life times and hence difficult to be measured experimentally, whose masses remain uncertain. Therefore, before new experimental techniques are being invented, nuclear theorists can only rely on extrapolation from known nuclei to unknown nuclei. The work in [2] shows an attempt of to extrapolate using Bayesian neural network. The $y$-axis in the figure below is \"separation energy of double neutrons\". This quantity can be related to the nuclear mass by the famous Einstein's mass-energy equivalence relation $E=mc^2$.\n",
    "\n",
    "<img src=\"https://journals.aps.org/prc/article/10.1103/PhysRevC.98.034318/figures/8/medium\" width=\"60%\">"
   ]
  },
  {
   "cell_type": "markdown",
   "metadata": {},
   "source": [
    "---\n",
    "# References\n",
    "\n",
    "[1] Morfouace, P., Tsang, C. Y., Zhang, et al. (2019). Constraining the symmetry energy with heavy-ion collisions and Bayesian analyses. Physics Letters B, 799, 135045. doi: <https://doi.org/10.1016/j.physletb.2019.135045>\n",
    "\n",
    "[2] Neufcourt, L., Cao, Y., Nazarewicz, W., & Viens, F. (2018). Bayesian approach to model-based extrapolation of nuclear observables. Physical Review C, 98(3), 034318. doi: <https://doi.org/10.1103/PhysRevC.98.034318>"
   ]
  }
 ],
 "metadata": {
  "anaconda-cloud": {},
  "kernelspec": {
   "display_name": "Python 3",
   "language": "python",
   "name": "python3"
  },
  "language_info": {
   "codemirror_mode": {
    "name": "ipython",
    "version": 3
   },
   "file_extension": ".py",
   "mimetype": "text/x-python",
   "name": "python",
   "nbconvert_exporter": "python",
   "pygments_lexer": "ipython3",
   "version": "3.7.6"
  }
 },
 "nbformat": 4,
 "nbformat_minor": 1
}
