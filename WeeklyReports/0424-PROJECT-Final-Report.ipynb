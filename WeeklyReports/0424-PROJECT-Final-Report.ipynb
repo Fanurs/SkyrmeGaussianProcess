{
 "cells": [
  {
   "cell_type": "markdown",
   "metadata": {},
   "source": [
    "# <center> Constraining Skyrme with Bayesian inference on heavy-ion collisions and Gaussian-emulated ImQMD </center>\n",
    "\n",
    "<center>By Chi-En Teh (Fanurs)</center>"
   ]
  },
  {
   "cell_type": "markdown",
   "metadata": {},
   "source": [
    "<img src=\"https://raw.githubusercontent.com/Fanurs/SkyrmeGaussianProcess/master/docs/images/logo.png\" width=\"50%\">"
   ]
  },
  {
   "cell_type": "markdown",
   "metadata": {},
   "source": [
    "---\n",
    "# Authors\n",
    "\n",
    "### Main developer\n",
    "F.C.E. Teh. National Superconducting Cyclotron Laboratory; Department of Physics and Astronmy, Michigan State University.\n",
    "\n",
    "### Instructors\n",
    "D. Colbry. Department of Computational Mathematics, Science and Engineering.<br>\n",
    "J. Krek. Electrical Computer Engineering Department, Michigan State University."
   ]
  },
  {
   "cell_type": "markdown",
   "metadata": {},
   "source": [
    "---\n",
    "# Abstract\n",
    "\n",
    "This program uses Gaussian process to emulate the simulation results from Improved Quantum Molecular Dynamics (ImQMD). Specifically, the program learns from a given sets of training data that contains the mapping from 4 Skyrme parameters into a vector of physical observables of interest. Gaussian process is then applied to emulate this mapping, serving as an interpolation to determine the physical observables for some new set of Skyrme parameters that are not included in the training data. Since emulation can be done much faster than the actual ImQMD simulation without losing much accuracy and precision, the invites many post-analysis such as Bayesian inference to infer the most probable Skyrme parameters given a certain experimental data."
   ]
  },
  {
   "cell_type": "markdown",
   "metadata": {},
   "source": [
    "----\n",
    "# Statement of Need\n",
    "\n",
    "While nuclear collision simulations are important for understanding the nuances of Skyrme parameters have on the physical observables, they are usually computationally expensive to do. Hence, a reliable way to emulate the simulation within some range of interest to reproduce certain physical observables is desired."
   ]
  },
  {
   "cell_type": "markdown",
   "metadata": {},
   "source": [
    "----\n",
    "# Installation instructions\n",
    "\n",
    "To install `skygp`, first go to a directory where you want to put the project repository (e.g. `$HOME`) in and do git clone. On your terminal, follow the commands below:\n",
    "```console\n",
    "user@server:~$ cd $HOME\n",
    "user@server:~$ git clone https://github.com/Fanurs/SkyrmeGaussianProcess.git\n",
    "user@server:~$ cd SkyrmeGaussianProcess\n",
    "```\n",
    "You are now inside the project directory. Type `ls -CF`, and you should see a list of files/directories similar as below printed on screen:\n",
    "```console\n",
    "user@server:~$ ls -CF\n",
    "database/  environment.yml  makefile   run_doc.sh*  tutorials/\n",
    "docs/      LICENSE          README.md  skygp/       WeeklyReports/\n",
    "```\n",
    "\n",
    "#### Conda environment\n",
    "We suggest to use a conda environment to interact with this project. Make sure you already have anaconda that supports Python 3 installed. To initialize a conda environment locally, simply do:\n",
    "```console\n",
    "user@server:~$ make init\n",
    "```\n",
    "You may take a look at `makefile` to see the actual command and some other options. Basically, it creates a local conda environment at `envs/` and installs the necessary python packages (see `environment.yml`) to it. Once it is done, do the following to activate the conda environment:\n",
    "```console\n",
    "user@server:~$ conda activate ./envs\n",
    "```\n",
    "#### Automatic documentation with `pdoc3`\n",
    "Auto-documentation can be done by entering:\n",
    "```console\n",
    "user@server:~$ make doc\n",
    "```\n",
    "This command runs the script `run_doc.sh` which\n",
    "- automatically documents all modules and submodules under `skygp/`,\n",
    "- synchronizes the docstring of `__init__.py` with the content in `README.md`,\n",
    "- places all the `*.html` under `docs/` to allow GitHub to render the corresponding [GitHub Pages](https://fanurs.github.io/SkyrmeGaussianProcess/)."
   ]
  },
  {
   "cell_type": "markdown",
   "metadata": {},
   "source": [
    "----\n",
    "# Unit Tests\n",
    "The project primarily uses `pytest` and `doctest` to do unit tests. Since `pytest` is not a standard python module, it has been added to `environment.yml`.\n",
    "\n",
    "All unit tests are placed under `skygp/__tests__/`. Unit tests can be done by running the two scripts, `pytest.sh` and `doctest.sh`. They can be used to check if the repository is working at a fundamental level, e.g. check if all required packages are working, if the sample cases give expected results, etc. You should see something similar as below shown on your screen:\n",
    "```console\n",
    "user@server:~$ cd skygp/__tests__/\n",
    "user@server:~$ bash pytest.sh\n",
    "================================ test session starts =================================\n",
    "platform linux -- Python 3.7.6, pytest-5.3.5, py-1.8.1, pluggy-0.13.1 -- /home/anaconda3/bin/python\n",
    "cachedir: .pytest_cache\n",
    "hypothesis profile 'default' -> database=DirectoryBasedExampleDatabase('/home/SkyrmeGaussianProcess/skygp/__tests__/.hypothesis/examples')\n",
    "rootdir: /home/SkyrmeGaussianProcess/skygp/__tests__\n",
    "plugins: remotedata-0.3.2, astropy-header-0.1.2, hypothesis-5.5.4, openfiles-0.4.0, doctestplus-0.5.0, arraydiff-0.3\n",
    "collected 8 items                                                                    \n",
    "\n",
    "data_manager_test.py::Test___init__::test_TypeError PASSED                     [ 12%]\n",
    "data_manager_test.py::Test_get_name::test_TypeError PASSED                     [ 25%]\n",
    "gaussian_emulator_test.py::Test_set_niterations::test_TypeError PASSED         [ 37%]\n",
    "gaussian_emulator_test.py::Test_fit::test_TypeError PASSED                     [ 50%]\n",
    "gaussian_emulator_test.py::Test_fit::test_ValueError PASSED                    [ 62%]\n",
    "gaussian_emulator_test.py::Test_predict::test_TypeError PASSED                 [ 75%]\n",
    "gaussian_emulator_test.py::Test_inspect_training_xslice::test_TypeError PASSED [ 87%]\n",
    "import_test.py::test_import PASSED                                             [100%]\n",
    "\n",
    "================================= 8 passed in 0.78s ==================================\n",
    "user@server:~$ bash doctest.sh\n",
    "doctesting  ../data_manager.py\n",
    "doctesting  ../gaussian_emulator.py\n",
    "skipping  ../__init__.py\n",
    "doctesting  ../isotope_mass.py\n",
    "```"
   ]
  },
  {
   "cell_type": "markdown",
   "metadata": {},
   "source": [
    "----\n",
    "# Example usage\n",
    "\n",
    "In `tutorials/`, you may find a list of python scripts or jupyter-notebooks that demonstrate the use of this repository.\n",
    "\n",
    "To try out the tutorials written in jupyter-notebooks, you may also visit [https://fanurs.github.io/SkyrmeGaussianProcess/](https://fanurs.github.io/SkyrmeGaussianProcess/) and click on the icon as below. That will lead to a temporary Google Colaboratory environment to run example codes without the need of local installation.\n",
    "![Open In Colab](https://colab.research.google.com/assets/colab-badge.svg)"
   ]
  },
  {
   "cell_type": "markdown",
   "metadata": {},
   "source": [
    "---\n",
    "# Methodology\n",
    "In the [original proposal](https://github.com/Fanurs/SkyrmeGaussianProcess/blob/master/docs/0117-PROJECT_Proposal.ipynb), both Gaussian processes and Bayesian inference were planned to be implemented. But the current repository only contains the Gaussian process functionality as well as a few modules that are handy when interacting with the raw outputs from ImQMD nuclear simulation."
   ]
  },
  {
   "cell_type": "markdown",
   "metadata": {},
   "source": [
    "---\n",
    "# Concluding Remarks\n",
    "Many of the functionalities proposed in this project were later found to have already existed in popular packages/projects such as `sklearn` and `PyMC3`. Hence, the main goal of this project has shifted from developing algorithms into:\n",
    "\n",
    "1) tuning hyperparameters to better fit the ImQMD sample space,<br>\n",
    "2) establishing modules to facilitate the interaction with ImQMD raw outputs,<br>\n",
    "3) building architecture (version control, documentation, unit test, etc.) that allows future development."
   ]
  },
  {
   "cell_type": "markdown",
   "metadata": {},
   "source": [
    "----\n",
    "# Mentions\n",
    "\n",
    "This repository will continue be updated, and it will be used heavily once we have the experimental data analysis from this [experiment](https://groups.nscl.msu.edu/hira/15190-14030/index.htm) finalized."
   ]
  },
  {
   "cell_type": "markdown",
   "metadata": {},
   "source": [
    "----\n",
    "# References\n",
    "\n",
    "[1] Wang, N., Li, Z., & Wu, X. (2002). Improved quantum molecular dynamics model and its applications to fusion reaction near barrier. Physical Review C, 65(6), 064608. doi: <https://doi.org/10.1103/PhysRevC.65.064608>\n",
    "\n",
    "[2] Morfouace, P., Tsang, C. Y., Zhang, et al. (2019). Constraining the symmetry energy with heavy-ion collisions and Bayesian analyses. Physics Letters B, 799, 135045. doi: <https://doi.org/10.1016/j.physletb.2019.135045>"
   ]
  }
 ],
 "metadata": {
  "anaconda-cloud": {},
  "kernelspec": {
   "display_name": "Python 3",
   "language": "python",
   "name": "python3"
  },
  "language_info": {
   "codemirror_mode": {
    "name": "ipython",
    "version": 3
   },
   "file_extension": ".py",
   "mimetype": "text/x-python",
   "name": "python",
   "nbconvert_exporter": "python",
   "pygments_lexer": "ipython3",
   "version": "3.7.6"
  }
 },
 "nbformat": 4,
 "nbformat_minor": 1
}
