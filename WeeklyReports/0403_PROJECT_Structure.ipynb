{
 "cells": [
  {
   "cell_type": "markdown",
   "metadata": {},
   "source": [
    "In order to successfully complete this assignment you need to commit changes to your shared git repository on or before **11:59pm on Friday April 3**."
   ]
  },
  {
   "cell_type": "markdown",
   "metadata": {},
   "source": [
    "# Rounding out your project\n",
    "\n",
    "<img src=\"https://publicdomainvectors.org/photos/folders-in-hierarchy-pdv.jpg\"  alt=\"pyTest logo\">"
   ]
  },
  {
   "cell_type": "markdown",
   "metadata": {},
   "source": [
    "In this last milestone project we will clean finish up our project structure to make it as easy as possible for others to use.  We have been doing pieces of this all semester but here we will add a few finishing touches to make the project complete. specifically I would like you to add the following:\n",
    "\n",
    "1. Licensing File\n",
    "2. Installation Instructions\n",
    "3. Makefile\n",
    "4. Jupyter Example"
   ]
  },
  {
   "cell_type": "markdown",
   "metadata": {},
   "source": [
    "---\n",
    "\n",
    "# 1. Licensing file\n",
    "\n",
    "As authors of software it is important to let people know how they can use our software.  The following article is a great resource for learning the types of terminology and logic used when talking about software License.  \n",
    "\n",
    "* https://journals.plos.org/ploscompbiol/article?id=10.1371/journal.pcbi.1002598\n",
    "\n",
    "Include a ```./LICENSE``` test file in your top directory. Select which license to use using the following website:\n",
    "\n",
    "* [https://choosealicense.com/](https://choosealicense.com/)\n",
    "\n",
    "Copy and paste your chosen license file into a file named ```./LICENSE```"
   ]
  },
  {
   "cell_type": "markdown",
   "metadata": {},
   "source": [
    "---\n",
    "\n",
    "# 2. Install instructions\n",
    "\n",
    "Your project needs to include clear installation instructions with all requirements.  These instructions can be included in your README.md file in the top directory.  \n",
    "\n",
    "I highly recommend you include instructions for creating a conda enviornment so that classmates are easily able to run your code. This means they need to temporarily set up their computer with the same settings as your system.  \n",
    "\n",
    "Ideally you want include a ```requirements.yml``` with your project so that other students and instructors can use the following commands to set up the environment:\n",
    "\n",
    "    conda env create --prefix ./envs --file requirements.yml\n",
    "    conda activate ./envs\n",
    "    \n",
    "The ```requirements.yml``` file can be created to \"copy\" your current enviornment by running the following command:\n",
    "\n",
    "    conda env export > environment.yml\n",
    "    \n",
    "Note, try to make your ```environment.yml``` file the minimum packages you will need to run your project.  **_Do not_** create an ```environment.yml``` file on your base anaconda environment as this will just install a lot of stuff that is not needed. A good way to figure out your base install is to create a new environment and add packages until your code works. For example:\n",
    "\n",
    "    conda create --prefix ./envs pytest pylint pdoc3 jupyter\n",
    "    conda activate ./envs\n",
    "    \n",
    "Now just use \"conda install\" and \"pip install\" to add all of your project dependencies until it starts working. For example may of you will want to include one or all of the following:\n",
    "\n",
    "    conda install numpy\n",
    "    conda install matplotlib\n",
    "    conda install scipy\n",
    "    conda install jupyter\n",
    "\n",
    "When you have it working run the ```conda env export``` command from above. To deactivate and delete your environment just run:\n",
    "\n",
    "    conda deactivate\n",
    "    rm -rf ./envs\n",
    "    \n",
    "That should be it!!!\n",
    "    "
   ]
  },
  {
   "cell_type": "markdown",
   "metadata": {},
   "source": [
    "---\n",
    "\n",
    "# 3. Makefile\n",
    "\n",
    "\"Make\" is a common Linux command that can help organize command line programs.  The idea is that you can \"make\" some files by running commands on other files.  Make works by reading in a file called a ```makefile```. Makefiles are fairly simple in concept but are an entire programming language so can get very advanced. At its simplest level a makefile consists of rules in the following format:\n",
    "\n",
    "```\n",
    "target : prerequisite_file1 prerequisite_file2 prequiste_file3 ...\n",
    "   #Bash build command(s) to make the target file from the prerequisite files\n",
    "```\n",
    "\n",
    "Makefiles can be thought of as Directed Acyclic Graphs (DAGs).  For example the makefile found in this [file](https://colbrydi.github.io/images//Makefile) can be visualized as the following dependency graph. \n",
    "\n",
    "<img src=\"https://colbrydi.github.io/images/make.png\" width=50%>\n",
    "\n",
    "The following is a very simple ```makefile``` template you can use in your project. This file has very few dependencies and is just a way to use make to keep track of the utilities we are using in this course:"
   ]
  },
  {
   "cell_type": "code",
   "execution_count": null,
   "metadata": {},
   "outputs": [],
   "source": [
    "%load makefile"
   ]
  },
  {
   "cell_type": "markdown",
   "metadata": {},
   "source": [
    "Copy the ```makefile``` file in the class directory into your project directory, change the **_YOURPOJECTFOLDERHERE_** name and add/commit the file to your repository.  Modify the commads to match your setup. **_NOTE_**: Makefiles formats require tabs instead of spaces so double check before committing. Modify the file as appropriate. \n",
    "\n",
    "To use this file the instructor will run the following:\n",
    "\n",
    "```\n",
    "    make init\n",
    "    conda activate ./envs\n",
    "    make doc\n",
    "    make lint\n",
    "    make test\n",
    "```\n",
    "\n",
    "Feel free to add/modify commands to your ```makefile``` that you feel will be helpful.  Test your commands and submit the makefile to your git repository. \n",
    "\n",
    "unfortunately, for the windows users it will be difficult to test the ```makefile``` without installing make for windows.  If you can, please try to update and test it using jupyterhub.  I realize this may be difficult for some of you so I am happy to test with you during office hours.  "
   ]
  },
  {
   "cell_type": "markdown",
   "metadata": {},
   "source": [
    "---\n",
    "\n",
    "# 4. Jupyter Example\n",
    "\n",
    "Finally, include jupyter notebook(s) with example(s) in an obvious location. Have the example(s) describe and show how to use the software and show some results.  "
   ]
  },
  {
   "cell_type": "markdown",
   "metadata": {},
   "source": [
    "-----\n",
    "\n",
    "### Congratulations, you are done!\n",
    "\n",
    "Now, you just need to commit and push the project changes to your project git repository. "
   ]
  }
 ],
 "metadata": {
  "anaconda-cloud": {},
  "kernelspec": {
   "display_name": "Python 3",
   "language": "python",
   "name": "python3"
  },
  "language_info": {
   "codemirror_mode": {
    "name": "ipython",
    "version": 3
   },
   "file_extension": ".py",
   "mimetype": "text/x-python",
   "name": "python",
   "nbconvert_exporter": "python",
   "pygments_lexer": "ipython3",
   "version": "3.6.9"
  }
 },
 "nbformat": 4,
 "nbformat_minor": 4
}
