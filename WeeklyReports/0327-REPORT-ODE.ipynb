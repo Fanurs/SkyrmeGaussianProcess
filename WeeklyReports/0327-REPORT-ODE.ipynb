{
 "cells": [
  {
   "cell_type": "markdown",
   "metadata": {},
   "source": [
    "# <center>Using Ordinary Differential Equations (ODEs) in nuclear physics</center>\n",
    "\n",
    "<center>by Chi-En Teh (Fanurs)</center>"
   ]
  },
  {
   "cell_type": "markdown",
   "metadata": {},
   "source": [
    "Differential equations are ubiquitous in nuclear physics. But if we focus on just the ordinary differential equations (ODEs) instead of partial differential equations (PDEs), then there are only a few examples where I apply ODEs on a regular basis. I will discuss two here.\n",
    "\n",
    "#### Nuclear decay [1]\n",
    "The modeling of nuclear decay is often used as the \"hello world\" tutorial for introducing ODEs. For a radioactive material of amount $N$ (can be in the unit of mass, number of particles, etc.), we assume its decay rate is proportional, i.e.\n",
    "$$\\frac{dN}{dt} = -\\lambda N \\ .$$\n",
    "This simplest ODE has a solution of\n",
    "$$N(t)=N(0)e^{-\\lambda t} \\ ,$$\n",
    "where $\\lambda$ can be assocaited to the more commonly known quantity, \"half-life\" $T_{1/2}$, by\n",
    "$$T_{1/2} = \\frac{\\ln{2}}{\\lambda} \\ .$$\n",
    "\n",
    "In a nuclear reaction, radioactive isotopes can not only decay into stable isotopes, but they can also be produced. This modifies the ODE into\n",
    "$$\\frac{dN}{dt} = R - \\lambda N \\ ,$$\n",
    "where $R$ is the production rate. This has a simple analytic solution if $R$ is constant. If $R$ is time-dependent, then numerical packages on Python would be useful in solving the ODE.\n",
    "\n",
    "Chained decay system can be constructed when the daughter nuclei (production of decays) are also radioactive. Consider a decay chain of $A\\rightarrow B\\rightarrow C$, assuming $C$ is stable, then we have a system of ODEs:\n",
    "$$\\frac{dN_A}{dt} = -\\lambda_{A\\rightarrow B}N_A$$\n",
    "$$\\frac{dN_B}{dt} = \\lambda_{A\\rightarrow B}N_A-\\lambda_{B\\rightarrow C}N_B$$\n",
    "$$\\frac{dN_C}{dt} = \\lambda_{B\\rightarrow C}N_B$$\n",
    "In actual applications, this chain can be much longer and inter-connected. This is when ODE packages on Python can be powerful.\n",
    "\n",
    "#### Scintillator light output [2]\n",
    "In experimental nuclear physics, one of the most common detector types is scintillation detector. Scintillator, as its name suggests, scintillates or emits light when being struck by some radiation. By collecting the light in a proper manner, it is possible to infer the radiation energy. To make this possible, there is one crucial procedure---calibration, i.e. we need to know the relation between the light $L$ and radiation energy $E$. This relation is commonly described by the following ODE:\n",
    "$$\\frac{dL}{dE} = \\frac{S}{1+kB|dE/dx|} \\ ,$$\n",
    "where $kB$ is the so-called \"Birk factor\" and $x$ is the depth that radiation reaches into the scintillation material before it interacts and induces light. In general, calibration is done by fitting this equation to the measured $E$ and $L$ data points."
   ]
  },
  {
   "cell_type": "markdown",
   "metadata": {},
   "source": [
    "---\n",
    "# References\n",
    "\n",
    "[1] Poenaru, D. N. (1996). Nuclear decay modes.<br>\n",
    "[2] Dell’Aquila, D., et al. (2019). Non-linearity effects on the light-output calibration of light charged particles in CsI (Tl) scintillator crystals. Nuclear Instruments and Methods in Physics Research Section A: Accelerators, Spectrometers, Detectors and Associated Equipment, 929, 162-172. doi: https://doi.org/10.1016/j.nima.2019.03.065"
   ]
  }
 ],
 "metadata": {
  "anaconda-cloud": {},
  "kernelspec": {
   "display_name": "Python 3",
   "language": "python",
   "name": "python3"
  },
  "language_info": {
   "codemirror_mode": {
    "name": "ipython",
    "version": 3
   },
   "file_extension": ".py",
   "mimetype": "text/x-python",
   "name": "python",
   "nbconvert_exporter": "python",
   "pygments_lexer": "ipython3",
   "version": "3.6.9"
  }
 },
 "nbformat": 4,
 "nbformat_minor": 1
}
