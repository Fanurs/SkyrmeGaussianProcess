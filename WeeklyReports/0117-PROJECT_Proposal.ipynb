{
 "cells": [
  {
   "cell_type": "markdown",
   "metadata": {},
   "source": [
    "# <center> Constraining Skyrme parametrization using Bayesian inference on heavy-ion collisions and Gaussian-emulated ImQMD </center>\n",
    "\n",
    "<center>By \"Teh, Chi-En (Fanurs)\"</center>"
   ]
  },
  {
   "cell_type": "markdown",
   "metadata": {},
   "source": [
    "<img src=\"https://science.sciencemag.org/content/sci/298/5598/1592/F1.large.jpg\" width=\"70%\">\n",
    "\n",
    "By studying the nucleus-nucleus collisions, nuclear physicists wish to build a model that can help us to understand the properties of neutron stars that are light years away from earth. The figure shows a simulated collision between two gold nuclei in discrete time steps. The three-dimensional and the lower row ($xz$-plane) show contours of constant density, whereas the upper row ($xy$-plane) shows contours of constant transverse pressure.\n",
    "\n",
    "<p style=\"text-align: right;\">Image from: https://science.sciencemag.org/content/sci/298/5598/1592/F1.large.jpg</p>"
   ]
  },
  {
   "cell_type": "markdown",
   "metadata": {},
   "source": [
    "---\n",
    "# Overview\n",
    "\n",
    "**Background**<br>\n",
    "The studies of nuclear physics are typically categorized into two approaches. The first approach is the so-called \"ab initio methods\" that seeks for a bottom-up model to describe nuclei. But just like any many-body problems, nuclear dynamics involves interactions among multiple neutrons and protons, making it very difficult to be solved even with the help of modern computers. This motivates physicists to come up with a second approach that describes atomic nuclei phenomenologically.\n",
    "\n",
    "So what does it mean to be phenomenologically? Back in the introductory chemistry class, students learn about the ideal gas law, $PV=nRT$, that models the macroscopic properties of most gases under the \"ordinary\" conditions. Such an equation is called an \"equation of state (EOS)\". When a more accurate modeling is required, modifications are introduced, e.g. the van der Waals EOS. Currently, the most widely accepted model for describing the nuclear interaction is called \"Skyrme\". The EOS for nuclear matter enjoys its current status within the field due to its predictive power on \"typical nuclei\", i.e. nuclear matter that comprise all natural elements found on earth under usual pressure.\n",
    "\n",
    "However, when we try extrapolating this model to study, say, properties of neutron stars (a huge nucleus made up of neutrons) that are light years away from us, the uncertainties quickly undermine any Skyrme's predictions. In the foreseeable future, neither sending rockets to neutron stars nor making a neutron star on earth would be possible. Fortunately, physicists and engineers have already been able to construct facilities that can make heavy nuclei collide at high speed, i.e. the heavy-ion collisions (HICs). Within a timeframe of about $10^{-24}~\\mathrm{s}$, the central region of the collision would reach an enormously high density that is comparable to that of a neutron star. Supposingly, the keys to answering all big questions in this field can be found within the high-density region. It's just that no direct probes exist with our current technology, and the post-collision fragments being emitted are indeed the only hints are given to physicists.\n",
    "\n",
    "**My project**<br>\n",
    "So the entire problem we face is as following: How can we reliably infer the high-density nuclear properties by studying the messy post-collision fragments? On one hand, we design a delicate experiment to measure these fragments as precise as possible. On the other hand, we perform simulation of heavy-ion collisions assuming the Skyrme EOS. The idea is by varying the yet unknown parameters in Skyrme, we try to find a set of Skyrme parameters that produce fragments that best match the experimental observation. Or to put it simply, we vary Skyrme parameters to fit the experimental data.\n",
    "\n",
    "In practice, this \"fitting\" procedure is not as straightforward. This is because the Skyrme EOS only tells us interaction among neutrons and protons, whereas what we need is to simulate an entire dynamics of nuclear collision. Just like knowing the Newton's three laws of motion does not immediately tell us how to simulate all the details happen in a car crash. There are many existing models in the field, and the one I am using for this project would primarily be the \"Improved Quantum Molecular Dynamics (ImQMD)\" (Wang, 2002). The maintenance and development of ImQMD are always done by the authors. My research group is granted the permission to use the program, which I generally run using the High-Performance Computing Cluster (HPCC) on campus. The program is Monte Carlo in nature, so millions of collisions need to be simulated before the physical quantities of interest stabilize and converge.\n",
    "\n",
    "The goal of my project is to come with a \"black box\" that by feeding in the Skyrme parameters it can reliably output the physical quantities of interest. This is important because even with the help of HPCC, it typically takes up to a day or a week to simulate just one set of Skyrme parameters. So without the \"black box\", it is practically impossible to fit the experimental data by varying Skyrme parameters.\n",
    "\n",
    "**More details**<br>\n",
    "At National Superconducting Cyclotron Laboratory (NSCL), a nucleus-nucleus collision is typically achieved by sending a beam onto a target. So between the two nuclei, one is identified as the beam nucleus, while another is identified as the target nucleus. Experimentally, a nucleus-nucleus collision event can be specified by three things:\n",
    "- Species of beam, e.g. $^{40}\\mathrm{Ca}$.\n",
    "- Species of target, e.g. $^{58}\\mathrm{Ni}$.\n",
    "- Beam energy, e.g. $140~\\mathrm{MeV/u}$.\n",
    "For a simulation, an additional quantity called the \"impact parameter\" $b$ is needed, i.e. the perpendicular distance between the beam tarjectory and the center of target. If $b=0$, we have a head-on collision; if $b$ is greater than the sum of radii of both nuclei, there is no collision in classical picture [a]. The set of items that specify a collision event is also called a \"collision system\".\n",
    "\n",
    "Some of my colleagues have attempted a similar project, and they had noticed the construction of a reliable \"black box\" is only possible when all four collision specifications are fixed. In other words, they were only able to let a machine to \"learn\" the ImQMD simulation for a one kind of collision system at a time. Changing the collision system would require a re-training of the machine. Also, the use of neural network on this problem was not considered as it typically requires a large number of training sets that are inavailable.\n",
    "\n",
    "*Footnotes:*<br>\n",
    "[a]: In quantum mechanics, collisions still occur even if two nuclei do not \"touch\" in classical sense.\n",
    "\n",
    "## Reference\n",
    "Wang, N., Li, Z., & Wu, X. (2002). Improved quantum molecular dynamics model and its applications to fusion reaction near barrier. Physical Review C, 65(6), 064608."
   ]
  },
  {
   "cell_type": "markdown",
   "metadata": {},
   "source": [
    "---\n",
    "# Program Description\n",
    "\n",
    "In my program, I wish the apply Gaussian processes to emulate the simulation results of ImQMD. This should be possible as the mappings of Skyrme parameters to most physical quantities of interest are believed to be smooth and well-behaved. The training set from ImQMD will be done using HPCC. For each collision system, the training set is consists of $50$ sets of Skyrme parameters, each with $4$ parameters, chosen using latin hypercube sampling.\n",
    "\n",
    "There are several modules that provide Gaussian processes, e.g. scikit-learn [1], or some third-party programs including `gp_emulator` [2] and `GPy` [3]. I have yet to investigate the differences among them, and decide the best module to use in my project.\n",
    "\n",
    "The program would be written so that its hyperparameters are best-suited for emulate the simulation results of ImQMD. This needs to be done after some trials and errors.\n",
    "\n",
    "Finally, I will also include the functionality of Bayesian inference so that when the program is fed in with experimental results, the \"best-fit\" Skyrme parameters will be calculated.\n",
    "\n",
    "\n",
    "## References\n",
    "[1] https://scikit-learn.org/stable/modules/gaussian_process.html<br>\n",
    "[2] https://gp-emulator.readthedocs.io/en/latest/<br>\n",
    "[3] https://sheffieldml.github.io/GPy/<br>\n"
   ]
  },
  {
   "cell_type": "markdown",
   "metadata": {},
   "source": [
    "---\n",
    "# Project Goals and Timeline\n",
    "\n",
    "- 1/17/2020 - Proposal Due; Understand the mathematics of Bayesian inference.\n",
    "- 1/31/2020 - Project git repository and structure due; Determine the modules for implementing Gaussian processes and Bayesian inference.\n",
    "- 2/14/2020 - Stub functions and Example code integration (With documentation); Written a working Gaussian emulator on toy model of multi-dimensional inputs and outputs.\n",
    "- 2/28/2020 - Coding standers and Unit Test integrated into project; Written a working Gaussian emulator on ImQMD simulation results for at least one collision system with one physical output.\n",
    "- 3/1/2020 - Spring break week; Written a working Bayesian inference program that can infer Skyrme parameters from experimental data.\n",
    "- 3/20/2020 - Code Draft (Code Review 1); Have made the program user-oriented, at least in terms of command line interfaces on python terminal or bash.\n",
    "- 4/3/2020 - Code Draft (Code Review 2); Implemented some visual presentations to the results for user inspection.\n",
    "- 4/20/2020 - Final Project and Presentation Due\n",
    "\n",
    "Long-term goal: It would be convenient to include the impact parameter $b$ into the Gaussian emulator. But previous attempt by my colleague was unsuccessful."
   ]
  },
  {
   "cell_type": "markdown",
   "metadata": {},
   "source": [
    "---\n",
    "# Anticipating Challenges  \n",
    "\n",
    "- Understanding the mathematics, at least the basics, of Gaussian processes and Bayesian inference. This is crucial as I need to explain to my advisor in case the resulting Skyrme parameters are not what people anticipate. Is it really new physics? Or is it just some errors or limitations caused by the Gaussian processes or Bayesian inference.\n",
    "- The quality of training sets could vary. It might be too late before I realize a particular training set is not good enough. So it is better to run more ImQMD simulations on HPCC.\n",
    "- In case simulating ImQMD for different collision systems is too ambitious, I shall focus on only one collision system chosen from the experiment we did two years ago.\n",
    "- The extraction of physics quantities from simulated results has typically been done in `C++` due to the massiveness of data. The python codes (this project) should only take care of steps after this extraction of quantities from simulation."
   ]
  }
 ],
 "metadata": {
  "anaconda-cloud": {},
  "kernelspec": {
   "display_name": "Python 3",
   "language": "python",
   "name": "python3"
  },
  "language_info": {
   "codemirror_mode": {
    "name": "ipython",
    "version": 3
   },
   "file_extension": ".py",
   "mimetype": "text/x-python",
   "name": "python",
   "nbconvert_exporter": "python",
   "pygments_lexer": "ipython3",
   "version": "3.6.9"
  }
 },
 "nbformat": 4,
 "nbformat_minor": 1
}
