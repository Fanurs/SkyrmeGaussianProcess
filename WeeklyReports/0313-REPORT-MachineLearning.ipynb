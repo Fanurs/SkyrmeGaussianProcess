{
 "cells": [
  {
   "cell_type": "markdown",
   "metadata": {},
   "source": [
    "# <center>Using Machine Learning in nuclear physics</center>\n",
    "\n",
    "<center>by Chi-En Teh (Fanurs)</center>"
   ]
  },
  {
   "cell_type": "markdown",
   "metadata": {},
   "source": [
    "The use of machine learning (ML) in nuclear physics has been gaining a lot of popularity in recent years. ML techniques have been proven useful to both theoretical and experimental aspects of nuclear physics. In this report, I would like to focus on the use of ML in experimental nuclear physics as this is my area of research. In particular, I will be focusing on the use of ML in active target time projection chamber (AT-TPC) in the National Superconducting Cyclotron Laboratory (NSCL) at Michigan State University (MSU). The figure below [1] shows the cross-sectional view of the prototype AT-TPC.<br><br>\n",
    "<img src=\"https://ars.els-cdn.com/content/image/1-s2.0-S0168900212007164-gr1_lrg.jpg\" width=\"40%\">\n",
    "\n",
    "### Time projection chamber\n",
    "Time projection chamber (TPC) was first invented by David Nygren in the late 1970s [2]. Unlike the solid state detectors, e.g. charge-coupled device (CCD) and semiconductor scintillators, the detection volume of a TPC is made up of an enclosed volume of gas within the chamber. As radiation enters the window of the TPC, a \"track\" is formed in the chamber due to the ionization of gas molecules. The track can be recorded by applying external electric field and magnetic field of appropriate intensities, so that the ions can be shifted to the internal walls of TPC, where signals are being collected and analyzed. Tracks can be reconstructed from the wall signals by comparing the intensities and arrival times. The figure below [3] shows an example of simulated proton track with and without noise.<br><br>\n",
    "<img src=\"https://ars.els-cdn.com/content/image/1-s2.0-S0168900219308046-gr9_lrg.jpg\" width=\"70%\">\n",
    "\n",
    "### Track classification\n",
    "In general, radiations or particle types can be distinguished by analyzing the reconstructed tracks. This is because different radiations carry different electric charges and masses, hence under the influence of a known electric field and magnetic field, different particles exhibit slightly distinctive tracks in the gas. Therefore, one major prerequisite for experimentalists to extract any further physics is to classify the tracks by particle types, and this is where ML shines. The figure below [3] shows tracks of proton, carbon and other.<br><br>\n",
    "<img src=\"https://ars.els-cdn.com/content/image/1-s2.0-S0168900219308046-gr10_lrg.jpg\" width=\"70%\">\n",
    "\n",
    "Just like most supervised ML, one major challenge for training a robust neural network is to ensure the transition from simulated data to actual experimental data. In this study, the researchers tried their best to ensure the simulated data and experimental data are as similar as possible. In the end, the experimental tracks are classified using network trained solely on simulated tracks.\n",
    "\n",
    "The study in [3] has compared the performances of logistic regression (LR), fully-connected neural networks (FCNN) and fine-tuned convolutional neural networks (CNN) that were pre-trained on ImageNet. Not only does CNN offers the best classification, it also exhibits the most robustness to the inclusion of noise."
   ]
  },
  {
   "cell_type": "markdown",
   "metadata": {},
   "source": [
    "---\n",
    "# References\n",
    "\n",
    "[1] Suzuki, D., Ford, M., Bazin, D., Mittig, W., Lynch, W. G., et al. (2012). Prototype AT-TPC: Toward a new generation active target time projection chamber for radioactive beam experiments. Nuclear Instruments and Methods in Physics Research Section A: Accelerators, Spectrometers, Detectors and Associated Equipment, 691, 39-54. link: <https://doi.org/10.1016/j.nima.2012.06.050>\n",
    "\n",
    "[2] Nygren, D. R. (1978). The time projection chamber. link: <https://escholarship.org/content/qt6w36n25j/qt6w36n25j.pdf>\n",
    "\n",
    "[3] Kuchera, M. P., Ramanujan, R., Taylor, J. Z., Strauss, R. R., Bazin, D., Bradt, J., & Chen, R. (2019). Machine learning methods for track classification in the AT-TPC. Nuclear Instruments and Methods in Physics Research Section A: Accelerators, Spectrometers, Detectors and Associated Equipment, 940, 156-167. link: <https://doi.org/10.1016/j.nima.2019.05.097>"
   ]
  }
 ],
 "metadata": {
  "anaconda-cloud": {},
  "kernelspec": {
   "display_name": "Python 3",
   "language": "python",
   "name": "python3"
  },
  "language_info": {
   "codemirror_mode": {
    "name": "ipython",
    "version": 3
   },
   "file_extension": ".py",
   "mimetype": "text/x-python",
   "name": "python",
   "nbconvert_exporter": "python",
   "pygments_lexer": "ipython3",
   "version": "3.6.9"
  }
 },
 "nbformat": 4,
 "nbformat_minor": 1
}
