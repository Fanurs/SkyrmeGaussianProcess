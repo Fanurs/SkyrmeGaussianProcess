{
 "cells": [
  {
   "cell_type": "markdown",
   "metadata": {},
   "source": [
    "# Emulating an actual simulation data from ImQMD\n",
    "In this tutorial, we will be emulating the simulation data from Improved Quantum Molecular Dynamics (ImQMD) that can be found under the directory `$PROJECTDIR/database/SnSn_e35b6x-1`, where `$PROJECTDIR` is the path of this project repository.\n",
    "\n",
    "Under `$PROJECTDIR/database/SnSn_e35b6x-1`, the directory structure and naming convention match the default output by ImQMD, which is a fortran executable simulation program. The actual ImQMD software is not included in this repository as it is not part of the intellectual properties of this project. Also, the raw outputs from ImQMD software are not included as their file sizes are huge (many GB for each). Instead, the analyzed results have been extracted using some `C++` program (mainly for speed) and saved as `NP-EK-A16Z6.DAT`, which can be found under every sub-directory in `$PROJECTDIR/database/SnSn_e35b6x-1`.\n",
    "\n",
    "Since ImQMD simulations can take a long time to run even on HPCC (High Performance Computing Center), our goal is to emulate the analyzed results from simulation inputs (the Skyrme parameters).\n",
    "\n",
    "Below is the summary:\n",
    "- Inputs of simulation: `$PROJECTDIR/database/SnSn_e35b6x-1/param.dat`. Each row represents one simulation run.\n",
    "- Raw outputs of simulation: Not included in this repository.\n",
    "- Analyzed outputs of simulation: `$PROJECTDIR/database/SnSn_e35b6x-1/$subdir/NP-EK-A16Z6.DAT`. Each sub-directory `$subdir` represents one simulation run. They follow the directory structure of the actual ImQMD software."
   ]
  },
  {
   "cell_type": "markdown",
   "metadata": {},
   "source": [
    "Before we can import `skygp`, we need to `sys.path.append()` the directory that contains the relevant source codes. This is done slightly different, depending on whether you are on Google Colab or not. The following script should be able to take care of both cases. Just run it:"
   ]
  },
  {
   "cell_type": "code",
   "execution_count": null,
   "metadata": {},
   "outputs": [],
   "source": [
    "import sys\n",
    "try:\n",
    "    import google.colab\n",
    "    COLAB = True\n",
    "    print('> You are using Google Colab!')\n",
    "except:\n",
    "    COLAB = False\n",
    "\n",
    "if COLAB:\n",
    "    print('> Cloning repository to Google Colab...')\n",
    "    !rm -rf SkyrmeGaussianProcess/\n",
    "    !git clone https://github.com/Fanurs/SkyrmeGaussianProcess.git\n",
    "    PROJECT_DIR = '/content/SkyrmeGaussianProcess/'\n",
    "else:\n",
    "    PROJECT_DIR = '../'\n",
    "\n",
    "sys.path.append(PROJECT_DIR)"
   ]
  },
  {
   "cell_type": "markdown",
   "metadata": {},
   "source": [
    "Then, we should be able to import the module `skygp` as well as other useful libraries."
   ]
  },
  {
   "cell_type": "code",
   "execution_count": null,
   "metadata": {},
   "outputs": [],
   "source": [
    "%matplotlib inline\n",
    "\n",
    "# standard modules (e.g. Anaconda)\n",
    "import numpy as np\n",
    "import matplotlib.pyplot as plt\n",
    "\n",
    "# skygp modules\n",
    "import skygp.gaussian_emulator as gmu\n",
    "import skygp.data_manager"
   ]
  },
  {
   "cell_type": "markdown",
   "metadata": {},
   "source": [
    "Troubleshoots (in case):\n",
    "- If it fails to import any standard modules, make sure you already have them installed.\n",
    "- If it fails to import any `skygp` modules, make sure you have `sys.path.append()` the correct directory."
   ]
  },
  {
   "cell_type": "markdown",
   "metadata": {},
   "source": [
    "# (1) Read in data with `skygp.data_manager`"
   ]
  },
  {
   "cell_type": "markdown",
   "metadata": {},
   "source": [
    "First, we read in the analyzed results from simulation. This can easily be handled by `skygp.data_manager.SimulationReader` which recognized the directory structure and naming conventions."
   ]
  },
  {
   "cell_type": "code",
   "execution_count": null,
   "metadata": {},
   "outputs": [],
   "source": [
    "imqmd_reader = skygp.data_manager.SimulationReader('%s/database/SnSn_e35b6x-1/' % PROJECT_DIR)"
   ]
  },
  {
   "cell_type": "markdown",
   "metadata": {},
   "source": [
    "The physical quantity of interest is something called the \"double ratio of neutron-proton yield ratio\". The word \"double\" refers to the fact that we need two collision systems. In this example, we only have:\n",
    "1. Sn124 + Sn124 at 35 MeV/u\n",
    "2. Sn112 + Sn112 at 35 MeV/u\n",
    "\n",
    "The double ratio typically takes the \"heavier system\" (system 1) divided by the \"lighter system\" (system 2)."
   ]
  },
  {
   "cell_type": "code",
   "execution_count": null,
   "metadata": {},
   "outputs": [],
   "source": [
    "subdir_fmt_heavy = 'sn124sn124_%03de35b6x-1'\n",
    "subdir_fmt_light = 'sn112sn112_%03de35b6x-1'"
   ]
  },
  {
   "cell_type": "markdown",
   "metadata": {},
   "source": [
    "The sub-directory naming convention also tells us other information:\n",
    "- `%03d` is a placeholder for the code that uniquely identifies which set of simulation parameters was used. The mapping is listed in `$PROJECTDIR/database/SnSn_e35b6x-1/param.dat`.\n",
    "- `e35` means the beam energy is 35 MeV/u.\n",
    "- `b6` means the simulation was run with an impact parameter of 6 fm.\n",
    "- `x-1` means version 1.0 of ImQMD, even though there has not been any newer version yet.\n",
    "\n",
    "After telling `skygp.data_manager.SimulationReader` where the data is stored, it is fairly straightforward to get the data:"
   ]
  },
  {
   "cell_type": "code",
   "execution_count": null,
   "metadata": {},
   "outputs": [],
   "source": [
    "x_train, y_train = imqmd_reader.get_data(\n",
    "                        subdir_fmt_heavy, subdir_fmt_light,\n",
    "                        param_codes=range(50), # we use all available\n",
    "                        energy_range=[0, 80], # MeV/u\n",
    "                       )"
   ]
  },
  {
   "cell_type": "markdown",
   "metadata": {},
   "source": [
    "The outputs are `pandas.DataFrame` objects. We can print them as below:"
   ]
  },
  {
   "cell_type": "code",
   "execution_count": null,
   "metadata": {},
   "outputs": [],
   "source": [
    "display(x_train.head())"
   ]
  },
  {
   "cell_type": "code",
   "execution_count": null,
   "metadata": {},
   "outputs": [],
   "source": [
    "display(y_train.head())"
   ]
  },
  {
   "cell_type": "markdown",
   "metadata": {},
   "source": [
    "Let's emulate the data."
   ]
  },
  {
   "cell_type": "code",
   "execution_count": null,
   "metadata": {},
   "outputs": [],
   "source": [
    "emulator = gmu.GaussianEmulator()\n",
    "emulator.fit(x_train.to_numpy(), y_train.to_numpy())"
   ]
  },
  {
   "cell_type": "markdown",
   "metadata": {},
   "source": [
    "That's it! We may now inspect the difference between emulation and actual results."
   ]
  },
  {
   "cell_type": "code",
   "execution_count": null,
   "metadata": {},
   "outputs": [],
   "source": [
    "x_test = np.array([x_train.loc[0]])\n",
    "y_test = np.array(y_train.loc[0])\n",
    "y_pred = emulator.predict(x_test)\n",
    "\n",
    "print('y_test:', y_test.flatten())\n",
    "print('y_pred:', y_pred.flatten())\n",
    "\n",
    "fig, ax = plt.subplots(dpi=120, figsize=(4,3), facecolor='white')\n",
    "ax.plot(y_test.flatten(), label='y_test')\n",
    "ax.plot(y_pred.flatten(), label='y_pred', linestyle='dashed')\n",
    "ax.legend()\n",
    "plt.show()"
   ]
  }
 ],
 "metadata": {
  "kernelspec": {
   "display_name": "Python 3",
   "language": "python",
   "name": "python3"
  },
  "language_info": {
   "codemirror_mode": {
    "name": "ipython",
    "version": 3
   },
   "file_extension": ".py",
   "mimetype": "text/x-python",
   "name": "python",
   "nbconvert_exporter": "python",
   "pygments_lexer": "ipython3",
   "version": "3.7.6"
  }
 },
 "nbformat": 4,
 "nbformat_minor": 4
}
