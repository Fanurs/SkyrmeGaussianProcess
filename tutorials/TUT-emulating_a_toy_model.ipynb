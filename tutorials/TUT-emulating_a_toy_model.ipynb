{
 "cells": [
  {
   "cell_type": "markdown",
   "metadata": {},
   "source": [
    "# Emulating a toy model\n",
    "In this tutorial, we will be emulating the toy model below:\n",
    "$$ f(x_0, x_1, x_2, x_3) = \\begin{bmatrix}x_0x_1+x_2x_3 \\\\ (x_0+1)^{x_1}-(x_2+1)^{x_3}\\end{bmatrix} \\ . $$\n",
    "This is a model that takes four inputs and yield two outputs."
   ]
  },
  {
   "cell_type": "markdown",
   "metadata": {},
   "source": [
    "We need to import `skygp.GaussianEmulator`. First, we append the `skygp` library to `sys.path`:"
   ]
  },
  {
   "cell_type": "code",
   "execution_count": null,
   "metadata": {},
   "outputs": [],
   "source": [
    "import sys\n",
    "sys.path.append('../skygp/')"
   ]
  },
  {
   "cell_type": "markdown",
   "metadata": {},
   "source": [
    "**Skip this step, unless you are using Google Colab**<br>\n",
    "If you are on Google Colab, you need to first `git clone` the respository."
   ]
  },
  {
   "cell_type": "code",
   "execution_count": null,
   "metadata": {},
   "outputs": [],
   "source": [
    "# !rm -rf SkyrmeGaussianProcess/\n",
    "# !git clone https://github.com/Fanurs/SkyrmeGaussianProcess.git\n",
    "# sys.path.append('./SkyrmeGaussianProcess/skygp/')"
   ]
  },
  {
   "cell_type": "markdown",
   "metadata": {},
   "source": [
    "Then, we import `skygp.GaussianEmulator` as well as other useful libraries."
   ]
  },
  {
   "cell_type": "code",
   "execution_count": null,
   "metadata": {},
   "outputs": [],
   "source": [
    "%matplotlib inline\n",
    "import numpy as np\n",
    "import matplotlib.pyplot as plt\n",
    "import pandas as pd\n",
    "import GaussianEmulator as gmu"
   ]
  },
  {
   "cell_type": "markdown",
   "metadata": {},
   "source": [
    "## (1) Create some training data for Gaussian emulator"
   ]
  },
  {
   "cell_type": "markdown",
   "metadata": {},
   "source": [
    "Translate the toy model's analytic formula into python function:"
   ]
  },
  {
   "cell_type": "code",
   "execution_count": null,
   "metadata": {},
   "outputs": [],
   "source": [
    "n_inputs, n_outputs = 4, 2\n",
    "def toy(x):\n",
    "    y = []\n",
    "    y.append(x[0]*x[1] + x[2]*x[3])\n",
    "    y.append((x[0]+1)**x[1] - (x[2]+1)**x[3])\n",
    "    return np.array(y)"
   ]
  },
  {
   "cell_type": "markdown",
   "metadata": {},
   "source": [
    "Prepare some training data.\n",
    "\n",
    "**Typical constraint:** In general, the more training data we have, the easier it is to train the Gaussian emulator well. However, the reason we use a Gaussian emulator, at least for this particular project, is that the training data are computationally expensive to obtain. A reasonable number of training data would be of the order of $10^2$. We will use $100$ training data in this tutorial."
   ]
  },
  {
   "cell_type": "code",
   "execution_count": null,
   "metadata": {},
   "outputs": [],
   "source": [
    "n_training = 30\n",
    "np.random.seed(0) # fix seed for reproducibility\n",
    "x_train = np.random.random(size=(n_training, n_inputs))\n",
    "y_train = toy(x_train.T).T"
   ]
  },
  {
   "cell_type": "markdown",
   "metadata": {},
   "source": [
    "Let's have a look at the typical values of the outputs:"
   ]
  },
  {
   "cell_type": "code",
   "execution_count": null,
   "metadata": {},
   "outputs": [],
   "source": [
    "pd.DataFrame(y_train, columns=[('y%d' % i) for i in range(n_outputs)]).describe()"
   ]
  },
  {
   "cell_type": "markdown",
   "metadata": {},
   "source": [
    "The training data are typically not free from uncertainty. So here we introduce some noise to `y_train`:"
   ]
  },
  {
   "cell_type": "code",
   "execution_count": null,
   "metadata": {},
   "outputs": [],
   "source": [
    "y_train += np.random.normal(loc=0.0, scale=0.02, size=y_train.shape)"
   ]
  },
  {
   "cell_type": "markdown",
   "metadata": {},
   "source": [
    "## (2) Train the Gaussian emulator"
   ]
  },
  {
   "cell_type": "markdown",
   "metadata": {},
   "source": [
    "Construct a Gaussian emulator object:"
   ]
  },
  {
   "cell_type": "code",
   "execution_count": null,
   "metadata": {},
   "outputs": [],
   "source": [
    "emulator = gmu.GaussianEmulator()"
   ]
  },
  {
   "cell_type": "markdown",
   "metadata": {},
   "source": [
    "Adjust the relevant parameters before training:"
   ]
  },
  {
   "cell_type": "code",
   "execution_count": null,
   "metadata": {},
   "outputs": [],
   "source": [
    "# number of training iterations\n",
    "emulator.set_niterations(10)"
   ]
  },
  {
   "cell_type": "markdown",
   "metadata": {},
   "source": [
    "Do the training/fitting:"
   ]
  },
  {
   "cell_type": "code",
   "execution_count": null,
   "metadata": {},
   "outputs": [],
   "source": [
    "emulator.fit(x_train, y_train)"
   ]
  },
  {
   "cell_type": "markdown",
   "metadata": {},
   "source": [
    "## (3) Inspect results"
   ]
  },
  {
   "cell_type": "markdown",
   "metadata": {},
   "source": [
    "Check the emulated results against training data. Here we choose to inspect the `ix=0` component of `x_train`."
   ]
  },
  {
   "cell_type": "code",
   "execution_count": null,
   "metadata": {},
   "outputs": [],
   "source": [
    "fig, ax = plt.subplots(dpi=100, figsize=(4,3))\n",
    "emulator.inspect_training_xslice(ix=0, ax=ax)\n",
    "ax.legend()\n",
    "ax.set_xlim(0,1)\n",
    "plt.show()"
   ]
  },
  {
   "cell_type": "markdown",
   "metadata": {},
   "source": [
    "Since we have the exact toy model, we can actually compare emulator's predictions beyond `x_train`."
   ]
  },
  {
   "cell_type": "code",
   "execution_count": null,
   "metadata": {},
   "outputs": [],
   "source": [
    "x_check = np.concatenate(([np.linspace(0,1,100)],\n",
    "                          [0.1*np.ones(100)],\n",
    "                          [0.5*np.ones(100)],\n",
    "                          [0.5*np.ones(100)]),\n",
    "                         axis=0).T\n",
    "y_pred = emulator.predict(x_check)\n",
    "y_true = toy(x_check.T).T"
   ]
  },
  {
   "cell_type": "code",
   "execution_count": null,
   "metadata": {},
   "outputs": [],
   "source": [
    "plt.plot(x_check[:,0], y_pred, color='black')\n",
    "plt.plot(x_check[:,0], y_true, color='red', linestyle='dashed')\n",
    "plt.show()"
   ]
  }
 ],
 "metadata": {
  "kernelspec": {
   "display_name": "Python 3",
   "language": "python",
   "name": "python3"
  },
  "language_info": {
   "codemirror_mode": {
    "name": "ipython",
    "version": 3
   },
   "file_extension": ".py",
   "mimetype": "text/x-python",
   "name": "python",
   "nbconvert_exporter": "python",
   "pygments_lexer": "ipython3",
   "version": "3.6.9"
  }
 },
 "nbformat": 4,
 "nbformat_minor": 2
}
