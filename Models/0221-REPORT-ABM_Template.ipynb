{
 "cells": [
  {
   "cell_type": "markdown",
   "metadata": {},
   "source": [
    "# <center>Using Agent Based Models in nuclear physics</center>\n",
    "\n",
    "<center>by Chi-En Teh</center>"
   ]
  },
  {
   "cell_type": "markdown",
   "metadata": {},
   "source": [
    "Agent-based modeling (ABM) is a common approach to explore the behavior of a complex system. Instead of simulating the entire system as a whole, ABM specifies the behavior of individual agents so that their collective behavior can reproduce the reality. These individual agents can refer to ants, vehicles, viruses, particles, etc.\n",
    "\n",
    "After doing some Google searches, it is hard to find journal papers that explicity uses the idea of ABM in physics, except for its applications to interdisciplinary studies like sociophysics, econophysics, etc. However, this is not to say that physicists do not use the idea of \"individual agents\". On the contrary, it is very common in physics to simulate a system of particles by specifying only the individual behavior of each particle. After all, the overall behavior of the system is often unknown.\n",
    "\n",
    "This idea of \"individual agents\" give rise to mainly two simulation techniques that slightly differ from one another: ABM and Markov Chain Monte Carlo (MCMC). While ABM typicaly runs all the individuals simultaneously, MCMC might deal with only one individual at a time and later uses collect their statistical behaviors to predict the system's evolution. One example is Geant4 [1], which is used very common nowadays in experimental nuclear physics to simulate the detection of particles. Of course, the later approach typically only works well when the particle density is not high so that their mutual interactions are indeed negligible.\n",
    "\n",
    "But in some cases, for example, the simulation of fluid are atomic nuclei that consist of highly dense particles, a better approach has to be used. One of them would be the \"molecular dynamics\", or more common in nuclear physics researches, \"quantum molecular dynamics\" (QMD) [2]. My current course project also aims to emulate the results from a so-called \"Improved QMD\" model [3] with Gaussian processes. While it is uncommon for people in the field to refer to QMD as an ABM, it shares a lot of common attributes of an ABM. For instance, in QMD, the goal is to understand the collective behavior of many-particle system, but only the physics of individual particles are being input to the computer.\n",
    "\n",
    "In summary, while the exact terminology of \"agent-based model\" is uncommon in nuclear physics, similar techniques of using a individual agents to predict the collective behavior is ubiquitous. Perhaps ideas from ABMs can also inspire future development of QMD models."
   ]
  },
  {
   "cell_type": "markdown",
   "metadata": {},
   "source": [
    "---\n",
    "# References\n",
    "\n",
    "[1] Amako, K., & for the Geant4 Collaboration. (2000). Present status of Geant4. Nuclear Instruments and Methods in Physics Research Section A: Accelerators, Spectrometers, Detectors and Associated Equipment, 453(1-2), 455-460. [link](https://doi.org/10.1016/S0168-9002\\(00\\)00681-1)\n",
    "\n",
    "[2] Kosloff, R. (1994). Propagation methods for quantum molecular dynamics. Annual review of physical chemistry, 45(1), 145-178. [link](https://doi.org/10.1146/annurev.pc.45.100194.001045)\n",
    "\n",
    "[3] Wang, N., Li, Z., & Wu, X. (2002). Improved quantum molecular dynamics model and its applications to fusion reaction near barrier. Physical Review C, 65(6), 064608. [link](https://doi.org/10.1103/PhysRevC.65.064608)"
   ]
  }
 ],
 "metadata": {
  "anaconda-cloud": {},
  "kernelspec": {
   "display_name": "Python 3",
   "language": "python",
   "name": "python3"
  },
  "language_info": {
   "codemirror_mode": {
    "name": "ipython",
    "version": 3
   },
   "file_extension": ".py",
   "mimetype": "text/x-python",
   "name": "python",
   "nbconvert_exporter": "python",
   "pygments_lexer": "ipython3",
   "version": "3.6.9"
  }
 },
 "nbformat": 4,
 "nbformat_minor": 1
}
